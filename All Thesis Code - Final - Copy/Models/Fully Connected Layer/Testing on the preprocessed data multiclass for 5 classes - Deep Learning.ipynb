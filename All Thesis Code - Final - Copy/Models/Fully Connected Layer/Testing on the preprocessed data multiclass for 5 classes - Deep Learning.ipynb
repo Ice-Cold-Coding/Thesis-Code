{
 "cells": [
  {
   "cell_type": "code",
   "execution_count": null,
   "id": "7a31aed9",
   "metadata": {},
   "outputs": [],
   "source": [
    "import time\n",
    "import os\n",
    "import cv2\n",
    "import numpy as np\n",
    "import tensorflow as tf\n",
    "import tensorflow_hub as hub\n",
    "import pandas as pd\n",
    "from sklearn import metrics\n",
    "from sklearn.metrics import accuracy_score\n",
    "from sklearn import svm\n",
    "import ast\n",
    "from sklearn.ensemble import RandomForestClassifier\n",
    "from sklearn.linear_model import LogisticRegression"
   ]
  },
  {
   "cell_type": "markdown",
   "id": "153f2e42",
   "metadata": {},
   "source": [
    "### Training on Chest X-ray14"
   ]
  },
  {
   "cell_type": "code",
   "execution_count": null,
   "id": "0c9c74a4",
   "metadata": {},
   "outputs": [],
   "source": [
    "#The file_list will contain the files that will be used for training on the Chest X-ray 14 dataset\n",
    "#The test_list will contain the files that will be used for testing\n",
    "file_list = []\n",
    "test_list = []\n",
    "#Path to the npz files that contain the feature representations\n",
    "directory =  R'D:\\SSD downloads\\Processed Chest X-ray 14\\\\'\n",
    "\n",
    "\n",
    "for filename in os.listdir(directory):\n",
    "    #This stores the last 11 npz files for testing, otherwise they are added to the file_list\n",
    "    for number in range(110, 121):\n",
    "        if str(number) in filename:\n",
    "            path = os.path.join(directory, filename)\n",
    "            if os.path.isfile(path):\n",
    "                test_list.append(path)\n",
    "        else:\n",
    "            path = os.path.join(directory, filename)\n",
    "            if os.path.isfile(path):\n",
    "                file_list.append(path)"
   ]
  },
  {
   "cell_type": "code",
   "execution_count": null,
   "id": "0954a968",
   "metadata": {},
   "outputs": [],
   "source": [
    "#The classifiers list will contain the 14 different classifers for each different class\n",
    "classifiers = []\n",
    "#counter is used to stop the model training\n",
    "counter = 0\n",
    "\n",
    "#Initialization of the Fully connected layer\n",
    "model = tf.keras.Sequential()\n",
    "model.add(tf.keras.layers.Dense(14 ,activation =\"softmax\", input_shape=(14 * 14 * 2048,)))\n",
    "model.compile(optimizer='adam', loss=\"categorical_crossentropy\", metrics=['accuracy'])\n",
    "\n",
    "\n",
    "\n",
    "#Loop over the npz files and load them, depending on what key they are stored as, they're loaded into the X_train or y_train \n",
    "#lists, once all the values from a npz file have been placed into the list, they are used to train the fully connected layer\n",
    "for file in file_list:\n",
    "    #These variables are reset for new file that is loaded\n",
    "    loaded_array = np.load(file)\n",
    "    train_image_data = []\n",
    "    train_label = []\n",
    "    #Checking what key the current value from the npz file has\n",
    "    for key in loaded_array:\n",
    "        if \"Label\" in key:\n",
    "            train_label.append(loaded_array[key].tolist())\n",
    "        else:\n",
    "            train_image_data.append(loaded_array[key])   \n",
    "    #Instantiate X_train and y_train, converting them both to tensors\n",
    "    y_train = train_label\n",
    "    y_train = np.array(y_train)\n",
    "    X_train = train_image_data\n",
    "    X_train = tf.convert_to_tensor(X_train, dtype=tf.float32)\n",
    "    y_train = tf.convert_to_tensor(y_train, dtype=tf.int32)\n",
    "    #Train model on the current data laoded \n",
    "    model.fit(X_train, y_train, epochs=30, batch_size=64)  \n",
    "    counter += 1\n",
    "    print(counter)\n",
    "    if counter == 20:\n",
    "        break"
   ]
  },
  {
   "cell_type": "markdown",
   "id": "90fff903",
   "metadata": {},
   "source": [
    "### Testing on Chest X-ray14"
   ]
  },
  {
   "cell_type": "code",
   "execution_count": null,
   "id": "60eac66e",
   "metadata": {
    "scrolled": true
   },
   "outputs": [],
   "source": [
    "from sklearn.metrics import roc_auc_score\n",
    "from sklearn.metrics import roc_curve\n",
    "\n",
    "\n",
    "#counter is used to stop the model testing after x amount of iterations \n",
    "counter = 0\n",
    "#AUC score will be stored in roc_auc variable\n",
    "roc_auc = 0\n",
    "\n",
    "\n",
    "for file in test_list:\n",
    "    #These variables are reset for new file that is loaded\n",
    "    X_test = []\n",
    "    y_test = []\n",
    "    loaded_array = np.load(file)\n",
    "    #Checking what key the current value from the npz file has\n",
    "    for key in loaded_array:\n",
    "        if \"Label\" in key:\n",
    "            y_test.append(loaded_array[key].tolist())\n",
    "        else:\n",
    "            X_test.append(loaded_array[key])\n",
    "    #Instantiate X_test and y_test, converting them both to tensors\n",
    "    y_test = np.array(y_test)\n",
    "    X_test = tf.convert_to_tensor(X_test, dtype=tf.float32)\n",
    "    y_test = tf.convert_to_tensor(y_test, dtype=tf.int32)\n",
    "    y_pred = model.predict(X_test)    \n",
    "    #Calculate the AUC-ROC for each label\n",
    "    for i in range(y_test.shape[1]):\n",
    "        if i in [3,8,7,12,2]:\n",
    "        #These values represent the indexs of [Effusion, Atelectasis, Consolidation, Cardiomegaly, Edema] in the y_prob[:,i] list\n",
    "            roc_auc += roc_auc_score(y_test[:, i], y_pred[:, i])\n",
    "            print(f\"AUC for label {i}: {roc_auc_score(y_test[:, i], y_pred[:, i])}\")\n",
    "    counter += 1\n",
    "    if counter == 2:\n",
    "        #AUC average score is calculated based of how many files have been iterated over\n",
    "        roc_auc/= 5 * counter\n",
    "        break"
   ]
  },
  {
   "cell_type": "code",
   "execution_count": null,
   "id": "001d593a",
   "metadata": {},
   "outputs": [],
   "source": [
    "#Average AUC score for in-distribution data\n",
    "print(roc_auc)"
   ]
  },
  {
   "cell_type": "markdown",
   "id": "2ed6685b",
   "metadata": {},
   "source": [
    "### Testing on CheXpert"
   ]
  },
  {
   "cell_type": "code",
   "execution_count": null,
   "id": "75550266",
   "metadata": {},
   "outputs": [],
   "source": [
    "#All the CheXpert files will be loaded into the test_list for out of distribution evaluation\n",
    "test_list = []\n",
    "directory = R'D:\\Processed CheXpert\\\\'\n",
    "\n",
    "for filename in os.listdir(directory):\n",
    "    path = os.path.join(directory, filename)\n",
    "    if os.path.isfile(path):\n",
    "        test_list.append(path)\n",
    "        #After 5 files have been added to test_list it breaks the loop\n",
    "    if len(test_list) == 5:\n",
    "        break"
   ]
  },
  {
   "cell_type": "code",
   "execution_count": null,
   "id": "eeecdf42",
   "metadata": {},
   "outputs": [],
   "source": [
    "from sklearn.metrics import roc_auc_score\n",
    "from sklearn.metrics import roc_curve\n",
    "\n",
    "\n",
    "#counter is used to stop the model testing after x amount of iterations \n",
    "counter = 0\n",
    "#AUC score will be stored in roc_auc variable\n",
    "roc_auc = 0\n",
    "\n",
    "\n",
    "for file in test_list:\n",
    "    #These variables are reset for new file that is loaded\n",
    "    X_test = []\n",
    "    y_test = []\n",
    "    loaded_array = np.load(file)\n",
    "    #Checking what key the current value from the npz file has\n",
    "    for key in loaded_array:\n",
    "        if \"Label\" in key:\n",
    "            y_test.append(loaded_array[key].tolist())\n",
    "        else:\n",
    "            X_test.append(loaded_array[key])\n",
    "    #Instantiate X_test and y_test, converting them both to tensors\n",
    "    y_test = np.array(y_test)\n",
    "    X_test = tf.convert_to_tensor(X_test, dtype=tf.float32)\n",
    "    y_test = tf.convert_to_tensor(y_test, dtype=tf.int32)\n",
    "    y_pred = model.predict(X_test)    \n",
    "    #Calculate the AUC-ROC for each label\n",
    "    for i in range(y_test.shape[1]):            \n",
    "        #These values represent the indexs of [Edema, Effusion, Atelectasis, Consolidation, Cardiomegaly] in the y_prob[:,i] list\n",
    "        if i in [0,6,7,9,10]:\n",
    "            roc_auc += roc_auc_score(y_test[:, i], y_pred[:, i])\n",
    "            print(f\"AUC for label {i}: {roc_auc_score(y_test[:, i], y_pred[:, i])}\")\n",
    "    counter += 1\n",
    "    if counter == 2:\n",
    "        #AUC average score is calculated based of how many files have been iterated over\n",
    "        roc_auc/= 5 * counter\n",
    "        break"
   ]
  },
  {
   "cell_type": "code",
   "execution_count": null,
   "id": "8edde85d",
   "metadata": {},
   "outputs": [],
   "source": [
    "#Average AUC score for out of distribution data\n",
    "print(roc_auc)"
   ]
  }
 ],
 "metadata": {
  "kernelspec": {
   "display_name": "Python 3 (ipykernel)",
   "language": "python",
   "name": "python3"
  },
  "language_info": {
   "codemirror_mode": {
    "name": "ipython",
    "version": 3
   },
   "file_extension": ".py",
   "mimetype": "text/x-python",
   "name": "python",
   "nbconvert_exporter": "python",
   "pygments_lexer": "ipython3",
   "version": "3.9.13"
  }
 },
 "nbformat": 4,
 "nbformat_minor": 5
}
