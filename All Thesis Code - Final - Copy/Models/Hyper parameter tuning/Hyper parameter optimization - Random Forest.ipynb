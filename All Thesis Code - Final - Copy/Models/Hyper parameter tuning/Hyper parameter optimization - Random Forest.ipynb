{
 "cells": [
  {
   "cell_type": "code",
   "execution_count": null,
   "id": "a7f7baae",
   "metadata": {},
   "outputs": [],
   "source": [
    "import numpy as np\n",
    "# Load the npz file and extract the values and the labels\n",
    "loaded_array = np.load(R'D:\\SSD downloads\\Processed Chest X-ray 14\\Updated Processed Chest X-rays 1.npz')\n",
    "\n",
    "X_train = []\n",
    "y_train = []\n",
    "for key in loaded_array:\n",
    "    #Checking what key the current value from the npz file represents\n",
    "    #Two types of values are stored in the npz file, the label and the feature representation\n",
    "    if \"Label\" in key:\n",
    "        y_train.append(loaded_array[key].tolist())\n",
    "    else:\n",
    "        X_train.append(loaded_array[key])\n",
    "        \n",
    "loaded_array.close()"
   ]
  },
  {
   "cell_type": "code",
   "execution_count": null,
   "id": "d9d2de37",
   "metadata": {},
   "outputs": [],
   "source": [
    "from sklearn.datasets import make_multilabel_classification\n",
    "from sklearn.model_selection import train_test_split\n",
    "from sklearn.preprocessing import MultiLabelBinarizer\n",
    "from sklearn.ensemble import RandomForestClassifier\n",
    "from sklearn.model_selection import GridSearchCV\n",
    "from sklearn.multiclass import OneVsRestClassifier\n",
    "\n",
    "\n",
    "# Creating the classifier \n",
    "rfc= RandomForestClassifier(random_state=42)\n",
    "rfc = OneVsRestClassifier(rfc)\n",
    "\n",
    "#parameters = { 'estimators': [50,100],'criterion' : ['gini', 'entropy'], 'max_features': ['sqrt', 'log2'],}\n",
    "\n",
    "parameters = {\n",
    "    'estimator__n_estimators': [50, 100],\n",
    "    'estimator__max_features': ['sqrt', 'log2'],\n",
    "    'estimator__criterion': ['gini', 'entropy']\n",
    "}\n",
    "\n",
    "\n",
    "\n",
    "# Use the GridSearchCV on the OneVsRestClassifier\n",
    "grid_clf = GridSearchCV(rfc, parameters, verbose = 3)\n",
    "\n",
    "# Fit the model\n",
    "grid_clf.fit(X_train, y_train)\n",
    "\n",
    "print(\"Best parameters set found on development set:\")\n",
    "print(grid_clf.best_params_)"
   ]
  }
 ],
 "metadata": {
  "kernelspec": {
   "display_name": "Python 3 (ipykernel)",
   "language": "python",
   "name": "python3"
  },
  "language_info": {
   "codemirror_mode": {
    "name": "ipython",
    "version": 3
   },
   "file_extension": ".py",
   "mimetype": "text/x-python",
   "name": "python",
   "nbconvert_exporter": "python",
   "pygments_lexer": "ipython3",
   "version": "3.9.13"
  }
 },
 "nbformat": 4,
 "nbformat_minor": 5
}
