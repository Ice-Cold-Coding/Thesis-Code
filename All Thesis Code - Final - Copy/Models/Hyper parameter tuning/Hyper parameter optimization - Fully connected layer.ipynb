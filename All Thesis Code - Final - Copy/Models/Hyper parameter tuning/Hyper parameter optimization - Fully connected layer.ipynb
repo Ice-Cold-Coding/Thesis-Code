{
 "cells": [
  {
   "cell_type": "code",
   "execution_count": null,
   "id": "b9b85f1e",
   "metadata": {},
   "outputs": [],
   "source": [
    "import numpy as np\n",
    "import tensorflow as tf\n",
    "import os"
   ]
  },
  {
   "cell_type": "code",
   "execution_count": null,
   "id": "a6b97031",
   "metadata": {},
   "outputs": [],
   "source": [
    "file = R'D:\\SSD downloads\\Processed Chest X-ray 14\\Updated Processed Chest X-rays 1.npz'\n",
    "\n",
    "#Creating training data to be used for hyper parameter tuning\n",
    "\n",
    "loaded_array = np.load(file)\n",
    "train_image_data = []\n",
    "train_label = []\n",
    "for key in loaded_array:\n",
    "    if \"Label\" in key:\n",
    "        train_label.append(loaded_array[key].tolist())\n",
    "    else:\n",
    "        train_image_data.append(loaded_array[key])    \n",
    "y_train = train_label\n",
    "y_train = np.array(y_train)\n",
    "X_train = train_image_data\n",
    "X_train = tf.convert_to_tensor(X_train, dtype=tf.float32)\n",
    "y_train = tf.convert_to_tensor(y_train, dtype=tf.int32)"
   ]
  },
  {
   "cell_type": "code",
   "execution_count": null,
   "id": "0d85bdd8",
   "metadata": {},
   "outputs": [],
   "source": [
    "#Creating testing data to be used for hyper parameter evaluation\n",
    "\n",
    "file = R'D:\\SSD downloads\\Processed Chest X-ray 14\\Updated Processed Chest X-rays 117.npz'\n",
    "X_test = []\n",
    "y_test = []\n",
    "loaded_array = np.load(file)\n",
    "for key in loaded_array:\n",
    "    if \"Label\" in key:\n",
    "        y_test.append(loaded_array[key].tolist())\n",
    "    else:\n",
    "        X_test.append(loaded_array[key])    \n",
    "y_test = np.array(y_test)"
   ]
  },
  {
   "cell_type": "code",
   "execution_count": null,
   "id": "bca9839c",
   "metadata": {
    "scrolled": false
   },
   "outputs": [],
   "source": [
    "import tensorflow as tf\n",
    "from sklearn.model_selection import train_test_split\n",
    "from sklearn.metrics import accuracy_score\n",
    "\n",
    "# Define the hyperparameters to tune\n",
    "learning_rates = [0.001, 0.01, 0.1]\n",
    "batch_sizes = [16, 32, 64]\n",
    "num_epochs = [10, 20, 30]\n",
    "\n",
    "# Initialize variables to store the best hyperparameters and model performance\n",
    "best_accuracy = 0\n",
    "best_learning_rate = None\n",
    "best_batch_size = None\n",
    "best_epochs = None\n",
    "best_model = None\n",
    "\n",
    "\n",
    "y_test = np.array(y_test)\n",
    "X_test = tf.convert_to_tensor(X_test, dtype=tf.float32)\n",
    "#y_test = tf.convert_to_tensor(y_test, dtype=tf.float32)\n",
    "\n",
    "\n",
    "# Hyperparameter tuning loop\n",
    "for learning_rate in learning_rates:\n",
    "    for batch_size in batch_sizes:\n",
    "        for epochs in num_epochs:\n",
    "            # Create the model\n",
    "            model = tf.keras.Sequential()\n",
    "            model.add(tf.keras.layers.Dense(14, activation=\"softmax\", input_shape=(14 * 14 * 2048,)))\n",
    "\n",
    "            # Compile the model\n",
    "            model.compile(optimizer='adam', loss=\"categorical_crossentropy\", metrics=['accuracy'])\n",
    "\n",
    "            # Train the model\n",
    "            model.fit(X_train, y_train, batch_size=batch_size, epochs=epochs, verbose=3)\n",
    "\n",
    "            # Evaluate the model on the test set\n",
    "            y_pred = model.predict(X_test)\n",
    "            y_pred = y_pred.astype(int)\n",
    "            accuracy = accuracy_score(y_test, y_pred)\n",
    "\n",
    "            # Check if the current model has the best accuracy so far\n",
    "            if accuracy > best_accuracy:\n",
    "                best_accuracy = accuracy\n",
    "                best_learning_rate = learning_rate\n",
    "                best_batch_size = batch_size\n",
    "                best_epochs = epochs\n",
    "                best_model = model\n",
    "\n",
    "# Print the best hyperparameters and accuracy\n",
    "print(\"Best Hyperparameters:\")\n",
    "print(\"Learning Rate:\", best_learning_rate)\n",
    "print(\"Batch Size:\", best_batch_size)\n",
    "print(\"Number of Epochs:\", best_epochs)\n",
    "print(\"Best Accuracy:\", best_accuracy)"
   ]
  }
 ],
 "metadata": {
  "kernelspec": {
   "display_name": "Python 3 (ipykernel)",
   "language": "python",
   "name": "python3"
  },
  "language_info": {
   "codemirror_mode": {
    "name": "ipython",
    "version": 3
   },
   "file_extension": ".py",
   "mimetype": "text/x-python",
   "name": "python",
   "nbconvert_exporter": "python",
   "pygments_lexer": "ipython3",
   "version": "3.9.13"
  }
 },
 "nbformat": 4,
 "nbformat_minor": 5
}
